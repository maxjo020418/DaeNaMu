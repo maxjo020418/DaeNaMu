{
 "cells": [
  {
   "cell_type": "markdown",
   "metadata": {},
   "source": [
    "1주차\n",
    "===\n",
    "_p46~62까지_\n",
    "\n",
    "퍼셉트론\n",
    "\n",
    "![curriculum](./images/curriculum.png)"
   ]
  },
  {
   "cell_type": "code",
   "execution_count": 1,
   "metadata": {},
   "outputs": [],
   "source": [
    "\"\"\"\n",
    "!sudo apt install python3-dev graphviz libgraphviz-dev pkg-config\n",
    "%pip install graphviz\n",
    "\"\"\"\n",
    "\n",
    "import matplotlib.pyplot as plt\n",
    "import numpy as np\n",
    "import networkx as nx\n",
    "\n",
    "from typing import List\n",
    "import logging\n"
   ]
  },
  {
   "cell_type": "markdown",
   "metadata": {},
   "source": [
    "### 간단한 `AND` 퍼셉트론의 예시\n",
    "가중치와 편향이 들어간 간단한 형태의 '뉴런'임을 볼 수 있다\n",
    "\n",
    "`netwkorkx`는 이후코드 참조용 그리고 이쁘게 보이게 :)"
   ]
  },
  {
   "cell_type": "code",
   "execution_count": 2,
   "metadata": {},
   "outputs": [
    {
     "data": {
      "image/png": "[encoded data removed]",
      "text/plain": [
       "<Figure size 640x480 with 1 Axes>"
      ]
     },
     "metadata": {},
     "output_type": "display_data"
    }
   ],
   "source": [
    "G = nx.DiGraph()\n",
    "x1, x2, y = \"x1\", \"x2\", \"=y\"\n",
    "G.add_edges_from([(x1, y), (x2, y)], len=1)\n",
    "G.add_edge(\"bias\", y, len=.4)\n",
    "\n",
    "pos = nx.nx_agraph.graphviz_layout(G, prog='neato')\n",
    "\n",
    "nx.draw(G, pos, \n",
    "        with_labels=True, \n",
    "        node_color='lightblue', node_size=2500,\n",
    "        edge_color='gray',\n",
    "        arrows=True, arrowstyle='-|>', arrowsize=20)\n",
    "\n",
    "edge_labels = {(x1, y): '*w1', (x2, y): '*w2'}\n",
    "\n",
    "nx.draw_networkx_edge_labels(G, pos, edge_labels=edge_labels, font_color='red')\n",
    "\n",
    "plt.show()"
   ]
  },
  {
   "cell_type": "markdown",
   "metadata": {},
   "source": [
    "### 좀 더 쉬운(?) 시각화를 위한 미니 프레임워크(?)\n",
    "\n",
    "각 노드를 class로 만들어서 서로 chaining/적층이 가능하도록\n",
    "\n",
    "상속통해서 새 노드형태 구현은 쉽도록!"
   ]
  },
  {
   "cell_type": "code",
   "execution_count": 3,
   "metadata": {},
   "outputs": [],
   "source": [
    "class BaseNode:\n",
    "    def __init__(self, \n",
    "                 inputs: List['BaseNode'] | np.ndarray,\n",
    "                 name: str = None,\n",
    "                 weights: np.ndarray = None, \n",
    "                 bias: np.float64 = None,\n",
    "                 theta: np.float64 = None,\n",
    "                 graph: nx.classes.digraph.DiGraph = None,\n",
    "                 log_level: int = logging.DEBUG) -> None:\n",
    "        self.name = name\n",
    "        self.inputs = inputs\n",
    "        self.graph = graph  # DC가 아니라 레퍼런스 참조라 이래도 ㄱㅊ\n",
    "\n",
    "        # input노드이냐 히든 노드이냐\n",
    "        self.is_input: bool = isinstance(inputs, np.ndarray)\n",
    "        # print(name, inputs, self.is_input)\n",
    "\n",
    "        # is_input 따라 알아서 인풋타입 처리, 이따 일처리 쉽게 val만 빼서서\n",
    "        self.input_vals = inputs if self.is_input else np.array([inp.get_output() for inp in inputs])\n",
    "\n",
    "        # optional한 계산용 파라미터\n",
    "        self.weights = weights\n",
    "        self.bias = bias\n",
    "        self.theta = theta\n",
    "\n",
    "        # input수와 weight수 맞는지 확인\n",
    "        if weights is not None:\n",
    "            assert len(inputs) == len(weights)\n",
    "        \n",
    "        # 로거 실행 (ipynb에선 잘 안되는 듯듯)\n",
    "        # logging.basicConfig(level=log_level, \n",
    "        #                     format=f\"%(asctime)s | {self.name} | %(levelname)s | %(message)s\")\n",
    "        # logging.getLogger().addHandler(logging.StreamHandler())\n",
    "        # self.logger = logging.getLogger(__name__)\n",
    "\n",
    "    def get_output(self) -> np.float64:\n",
    "        res = np.sum(self.input_vals * self.weights) + self.bias\n",
    "        # print(f'{self.theta} | {res} = sum({self.input_vals} * {self.weights}) + {self.bias}')\n",
    "        return .0 if res <= self.theta else 1.0\n",
    "    \n",
    "    def plot_graph(self) -> 'BaseNode':  # 노드 간 traversal 문제때문에 안그려짐;;;;\n",
    "        # networkx 부분, `not self.is_input` 검수는 ndarray 직접입력을 그래핑할수는 없기에...\n",
    "        if self.graph is not None and not self.is_input:\n",
    "            self.graph.add_node(self, label=self.name)\n",
    "            # input node(들) 추가, input_node -> self (directional)\n",
    "            self.graph.add_edges_from(\n",
    "                [(inp, self, {'label': f'w*{w}'}) for inp, w in zip(self.inputs, self.weights)], len=1)\n",
    "            # bias node 추가 (있다면면)\n",
    "            if self.bias:\n",
    "                self.graph.add_edge(f'b*{self.bias}', self, len=.3)\n",
    "            \n",
    "            [inp.plot_graph() for inp in self.inputs]\n",
    "        \n",
    "        return self\n",
    "    \n",
    "    def draw_graph(self) -> None:\n",
    "        assert self.graph is not None, 'graph가 존재하지 않음!'\n",
    "        # self.logger.debug(f'self.graph: {self.graph}')\n",
    "        pos = nx.nx_agraph.graphviz_layout(G, prog='neato')\n",
    "        nx.draw(self.graph, pos, \n",
    "                with_labels=True, \n",
    "                node_color='lightblue', node_size=2500,\n",
    "                edge_color='gray',\n",
    "                arrows=True, arrowstyle='-|>', arrowsize=20)\n",
    "\n",
    "\n",
    "class InputNode(BaseNode):\n",
    "    def __init__(self, name, inputs, weights, bias):\n",
    "        super().__init__(name, inputs, weights, bias)\n",
    "        assert self.is_input, '인풋노드는 수가 들어있어야함 (np.ndarray)'\n",
    "    \n",
    "    def get_output(self):\n",
    "        return self.input_vals"
   ]
  },
  {
   "cell_type": "markdown",
   "metadata": {},
   "source": [
    "note: 상속받는 operator node의 `__init__` 변수들 `__init__`시에 변경은 가능하게 함 혹시나해서"
   ]
  },
  {
   "cell_type": "markdown",
   "metadata": {},
   "source": [
    "<div class=\"alert alert-block alert-danger\">\n",
    "<b>잘못만듦...</b> <br>계산은 다 작동 잘 하는데, 계산 전파 방향을 반대로 만들어서 그래프 안그려짐...\n",
    "</div>"
   ]
  },
  {
   "cell_type": "markdown",
   "metadata": {},
   "source": [
    "#### `AND` 구현"
   ]
  },
  {
   "cell_type": "code",
   "execution_count": 4,
   "metadata": {},
   "outputs": [],
   "source": [
    "class AND(BaseNode):\n",
    "    def __init__(self,\n",
    "                 weights = np.array([.5, .5]),\n",
    "                 bias = -.7,\n",
    "                 theta = 0,\n",
    "                 **kwargs):\n",
    "        super().__init__(weights=weights, bias=bias, theta=theta, **kwargs)"
   ]
  },
  {
   "cell_type": "code",
   "execution_count": 5,
   "metadata": {},
   "outputs": [
    {
     "data": {
      "text/plain": [
       "(0.0, 0.0, 0.0, 1.0)"
      ]
     },
     "execution_count": 5,
     "metadata": {},
     "output_type": "execute_result"
    }
   ],
   "source": [
    "AND(inputs=np.array([0, 0])).get_output(),\\\n",
    "AND(inputs=np.array([0, 1])).get_output(),\\\n",
    "AND(inputs=np.array([1, 0])).get_output(),\\\n",
    "AND(inputs=np.array([1, 1])).get_output()"
   ]
  },
  {
   "cell_type": "code",
   "execution_count": 6,
   "metadata": {},
   "outputs": [
    {
     "name": "stdout",
     "output_type": "stream",
     "text": [
      "DiGraph with 0 nodes and 0 edges\n"
     ]
    },
    {
     "data": {
      "image/png": "[encoded data removed]",
      "text/plain": [
       "<Figure size 640x480 with 1 Axes>"
      ]
     },
     "metadata": {},
     "output_type": "display_data"
    }
   ],
   "source": [
    "graph = nx.DiGraph()\n",
    "print(graph)\n",
    "AND(inputs=np.array([1, 1]), graph=graph).draw_graph()"
   ]
  },
  {
   "cell_type": "markdown",
   "metadata": {},
   "source": [
    "#### `NAND` 구현"
   ]
  },
  {
   "cell_type": "code",
   "execution_count": 7,
   "metadata": {},
   "outputs": [],
   "source": [
    "class NAND(BaseNode):\n",
    "    def __init__(self,\n",
    "                 weights = np.array([-.5, -.5]),\n",
    "                 bias = .7,\n",
    "                 theta = 0,\n",
    "                 **kwargs):\n",
    "        # AND에서 weight, bias 역으로\n",
    "        super().__init__(weights=weights, bias=bias, theta=theta, **kwargs)"
   ]
  },
  {
   "cell_type": "code",
   "execution_count": 8,
   "metadata": {},
   "outputs": [
    {
     "data": {
      "text/plain": [
       "(1.0, 1.0, 1.0, 0.0)"
      ]
     },
     "execution_count": 8,
     "metadata": {},
     "output_type": "execute_result"
    }
   ],
   "source": [
    "NAND(inputs=np.array([0, 0])).get_output(),\\\n",
    "NAND(inputs=np.array([0, 1])).get_output(),\\\n",
    "NAND(inputs=np.array([1, 0])).get_output(),\\\n",
    "NAND(inputs=np.array([1, 1])).get_output()"
   ]
  },
  {
   "cell_type": "markdown",
   "metadata": {},
   "source": [
    "#### `OR` 구현"
   ]
  },
  {
   "cell_type": "code",
   "execution_count": 9,
   "metadata": {},
   "outputs": [],
   "source": [
    "class OR(BaseNode):\n",
    "    def __init__(self,\n",
    "                 weights = np.array([.5, .5]),\n",
    "                 bias = -.2,\n",
    "                 theta = 0,\n",
    "                 **kwargs):\n",
    "        super().__init__(weights=weights, bias=bias, theta=theta, **kwargs)"
   ]
  },
  {
   "cell_type": "code",
   "execution_count": 10,
   "metadata": {},
   "outputs": [
    {
     "data": {
      "text/plain": [
       "(0.0, 1.0, 1.0, 1.0)"
      ]
     },
     "execution_count": 10,
     "metadata": {},
     "output_type": "execute_result"
    }
   ],
   "source": [
    "OR(inputs=np.array([0, 0])).get_output(),\\\n",
    "OR(inputs=np.array([0, 1])).get_output(),\\\n",
    "OR(inputs=np.array([1, 0])).get_output(),\\\n",
    "OR(inputs=np.array([1, 1])).get_output()"
   ]
  },
  {
   "cell_type": "markdown",
   "metadata": {},
   "source": [
    "#### `XOR` 구현 (적층!)"
   ]
  },
  {
   "cell_type": "code",
   "execution_count": 11,
   "metadata": {},
   "outputs": [],
   "source": [
    "class XOR(BaseNode):\n",
    "    def get_output(self) -> np.ndarray:\n",
    "        return AND(inputs=[NAND(inputs=self.input_vals), OR(inputs=self.input_vals)]).get_output()"
   ]
  },
  {
   "cell_type": "code",
   "execution_count": 12,
   "metadata": {},
   "outputs": [
    {
     "data": {
      "text/plain": [
       "(0.0, 1.0, 1.0, 0.0)"
      ]
     },
     "execution_count": 12,
     "metadata": {},
     "output_type": "execute_result"
    }
   ],
   "source": [
    "XOR(inputs=np.array([0, 0])).get_output(),\\\n",
    "XOR(inputs=np.array([1, 0])).get_output(),\\\n",
    "XOR(inputs=np.array([0, 1])).get_output(),\\\n",
    "XOR(inputs=np.array([1, 1])).get_output()"
   ]
  },
  {
   "cell_type": "code",
   "execution_count": 13,
   "metadata": {},
   "outputs": [
    {
     "data": {
      "text/plain": [
       "0.0"
      ]
     },
     "execution_count": 13,
     "metadata": {},
     "output_type": "execute_result"
    }
   ],
   "source": [
    "# XOR(inputs=np.array([1, 1]), graph=graph).plot_graph().draw_graph()\n",
    "AND(inputs=[NAND(inputs=np.array([1, 1]), name=\"NAND\"), OR(inputs=np.array([1, 1]), name=\"OR\")], name=\"AND\").get_output()"
   ]
  },
  {
   "cell_type": "markdown",
   "metadata": {},
   "source": [
    "이런식으로 만들어도 됨!"
   ]
  },
  {
   "cell_type": "code",
   "execution_count": 14,
   "metadata": {},
   "outputs": [
    {
     "name": "stdout",
     "output_type": "stream",
     "text": [
      "0.0\n",
      "1.0\n",
      "1.0\n",
      "0.0\n"
     ]
    }
   ],
   "source": [
    "def xor(inp: np.ndarray) -> None:\n",
    "    print(AND(inputs=[NAND(inputs=inp), OR(inputs=inp)]).get_output())\n",
    "\n",
    "xor(np.array([0, 0]))\n",
    "xor(np.array([0, 1]))\n",
    "xor(np.array([1, 0]))\n",
    "xor(np.array([1, 1]))"
   ]
  },
  {
   "cell_type": "markdown",
   "metadata": {},
   "source": [
    "![ㅈㄱㄴ](./images/W2/Screenshot%202025-03-20%20145123.png)\n",
    "\n",
    "- (거의) 모든 형태의 논리로직을 NAND로 표현할 수 있음 (다 그렇게 쓰고있다는건 아니지만)\\\n",
    "- AND, OR, NOR보다 이것저것 회로를 만드는데 더 작고 효율적이게 할 수 있음\n",
    "- SR-Latch같은데에 써서 메모리 만드는데 자주사용"
   ]
  },
  {
   "cell_type": "markdown",
   "metadata": {},
   "source": []
  }
 ],
 "metadata": {
  "kernelspec": {
   "display_name": ".venv",
   "language": "python",
   "name": "python3"
  },
  "language_info": {
   "codemirror_mode": {
    "name": "ipython",
    "version": 3
   },
   "file_extension": ".py",
   "mimetype": "text/x-python",
   "name": "python",
   "nbconvert_exporter": "python",
   "pygments_lexer": "ipython3",
   "version": "3.12.3"
  }
 },
 "nbformat": 4,
 "nbformat_minor": 2
}
