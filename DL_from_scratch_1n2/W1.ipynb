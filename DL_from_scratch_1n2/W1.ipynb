{
 "cells": [
  {
   "cell_type": "markdown",
   "id": "4bc0cbd287c19751",
   "metadata": {},
   "source": [
    "1주차\n",
    "===\n",
    "_p45까지_\n",
    "\n",
    "python basics\n",
    "\n",
    "![curriculum](./images/curriculum.png)"
   ]
  },
  {
   "cell_type": "code",
   "execution_count": 1,
   "id": "3ec52f69",
   "metadata": {},
   "outputs": [],
   "source": [
    "# from typing import List\n",
    "import numpy as np\n",
    "import matplotlib.pyplot as plt\n",
    "from matplotlib.image import imread"
   ]
  },
  {
   "cell_type": "markdown",
   "id": "936f1172",
   "metadata": {},
   "source": [
    "Note: \n",
    "1. 함수별 `type-hinting`을 통해서 type safety와 편리성/가독성 추구 (IDE에서 자동완성 및 경고에 도움) [PEP-484](https://peps.python.org/pep-0484/)\n",
    "2. 가독성 위해 [PEP-8](https://peps.python.org/pep-0008/) 따름"
   ]
  },
  {
   "cell_type": "markdown",
   "id": "35d1f48fe6176cd7",
   "metadata": {},
   "source": [
    "---\n",
    "### 클래스"
   ]
  },
  {
   "cell_type": "code",
   "execution_count": 2,
   "id": "initial_id",
   "metadata": {
    "ExecuteTime": {
     "end_time": "2025-03-13T05:23:55.832448Z",
     "start_time": "2025-03-13T05:23:55.828199Z"
    },
    "collapsed": true
   },
   "outputs": [],
   "source": [
    "class Tester:\n",
    "    def __init__(self, name: str) -> None:\n",
    "        self.name = name\n",
    "        print(f'클래스 객체 생성!, `__init__`실행')\n",
    "\n",
    "    def hello(self) -> None:\n",
    "        print(f'hello, {self.name}')\n",
    "\n",
    "    def goodbye(self) -> None:\n",
    "        print(f'goodbye, {self.name}')"
   ]
  },
  {
   "cell_type": "code",
   "execution_count": 3,
   "id": "36a17cc1e08c635e",
   "metadata": {
    "ExecuteTime": {
     "end_time": "2025-03-13T05:24:03.836086Z",
     "start_time": "2025-03-13T05:24:03.833354Z"
    }
   },
   "outputs": [
    {
     "name": "stdout",
     "output_type": "stream",
     "text": [
      "클래스 객체 생성!, `__init__`실행\n",
      "hello, 수뭉이\n",
      "goodbye, 수뭉이\n"
     ]
    }
   ],
   "source": [
    "m = Tester('수뭉이')\n",
    "m.hello()\n",
    "m.goodbye()"
   ]
  },
  {
   "cell_type": "markdown",
   "id": "dccba3c3",
   "metadata": {},
   "source": [
    "---\n",
    "### `Numpy` 사용하기\n",
    "#### basics"
   ]
  },
  {
   "cell_type": "code",
   "execution_count": 4,
   "id": "858beb5c8294846",
   "metadata": {},
   "outputs": [
    {
     "name": "stdout",
     "output_type": "stream",
     "text": [
      "(2, 2)\n",
      "int64\n"
     ]
    },
    {
     "data": {
      "text/plain": [
       "array([[1, 2],\n",
       "       [3, 4]])"
      ]
     },
     "execution_count": 4,
     "metadata": {},
     "output_type": "execute_result"
    }
   ],
   "source": [
    "A = np.array([\n",
    "    [1, 2],\n",
    "    [3, 4],\n",
    "])\n",
    "\n",
    "print(A.shape)\n",
    "print(A.dtype)\n",
    "A"
   ]
  },
  {
   "cell_type": "code",
   "execution_count": 5,
   "id": "11bd9821",
   "metadata": {},
   "outputs": [],
   "source": [
    "B = np.array([\n",
    "    [4, 2],\n",
    "    [3, 10],\n",
    "])"
   ]
  },
  {
   "cell_type": "code",
   "execution_count": 6,
   "id": "72ac7951",
   "metadata": {},
   "outputs": [
    {
     "data": {
      "text/plain": [
       "array([[ 5,  4],\n",
       "       [ 6, 14]])"
      ]
     },
     "execution_count": 6,
     "metadata": {},
     "output_type": "execute_result"
    }
   ],
   "source": [
    "A + B"
   ]
  },
  {
   "cell_type": "code",
   "execution_count": 7,
   "id": "c1e2fcee",
   "metadata": {},
   "outputs": [
    {
     "data": {
      "text/plain": [
       "array([[ 4,  4],\n",
       "       [ 9, 40]])"
      ]
     },
     "execution_count": 7,
     "metadata": {},
     "output_type": "execute_result"
    }
   ],
   "source": [
    "A * B"
   ]
  },
  {
   "cell_type": "markdown",
   "id": "86e665ef",
   "metadata": {},
   "source": [
    "#### Broadcasting\n",
    "예.1"
   ]
  },
  {
   "cell_type": "code",
   "execution_count": 8,
   "id": "34eb7196",
   "metadata": {},
   "outputs": [],
   "source": [
    "A = np.array([\n",
    "    [1, 2],\n",
    "    [3, 4],\n",
    "])\n",
    "B = np.array([10, 20])"
   ]
  },
  {
   "cell_type": "code",
   "execution_count": 9,
   "id": "b8b1f5d7",
   "metadata": {},
   "outputs": [
    {
     "data": {
      "text/plain": [
       "array([[10, 40],\n",
       "       [30, 80]])"
      ]
     },
     "execution_count": 9,
     "metadata": {},
     "output_type": "execute_result"
    }
   ],
   "source": [
    "A * B"
   ]
  },
  {
   "cell_type": "code",
   "execution_count": 10,
   "id": "cbb54579",
   "metadata": {},
   "outputs": [
    {
     "data": {
      "text/plain": [
       "array([[10, 20],\n",
       "       [30, 40]])"
      ]
     },
     "execution_count": 10,
     "metadata": {},
     "output_type": "execute_result"
    }
   ],
   "source": [
    "A * 10"
   ]
  },
  {
   "cell_type": "markdown",
   "id": "da6be414",
   "metadata": {},
   "source": [
    "#### 원소접근"
   ]
  },
  {
   "cell_type": "code",
   "execution_count": 11,
   "id": "3db335ea",
   "metadata": {},
   "outputs": [],
   "source": [
    "X = np.array([\n",
    "    [51, 55],\n",
    "    [14, 19],\n",
    "    [0, 4],\n",
    "])"
   ]
  },
  {
   "cell_type": "code",
   "execution_count": 12,
   "id": "4ec1eb6b",
   "metadata": {},
   "outputs": [
    {
     "data": {
      "text/plain": [
       "array([51, 55])"
      ]
     },
     "execution_count": 12,
     "metadata": {},
     "output_type": "execute_result"
    }
   ],
   "source": [
    "X[0]"
   ]
  },
  {
   "cell_type": "code",
   "execution_count": 13,
   "id": "82ecd9ad",
   "metadata": {},
   "outputs": [
    {
     "data": {
      "text/plain": [
       "np.int64(55)"
      ]
     },
     "execution_count": 13,
     "metadata": {},
     "output_type": "execute_result"
    }
   ],
   "source": [
    "X[0][1]"
   ]
  },
  {
   "cell_type": "code",
   "execution_count": 14,
   "id": "6fa8728e",
   "metadata": {},
   "outputs": [
    {
     "name": "stdout",
     "output_type": "stream",
     "text": [
      "[51 55]\n",
      "[14 19]\n",
      "[0 4]\n",
      "2\n"
     ]
    }
   ],
   "source": [
    "[print(row) for row in X]\n",
    "print(X.ndim)"
   ]
  },
  {
   "cell_type": "markdown",
   "id": "db8a88ca",
   "metadata": {},
   "source": [
    "차원축소"
   ]
  },
  {
   "cell_type": "code",
   "execution_count": 15,
   "id": "6849d686",
   "metadata": {},
   "outputs": [
    {
     "data": {
      "text/plain": [
       "array([51, 55, 14, 19,  0,  4])"
      ]
     },
     "execution_count": 15,
     "metadata": {},
     "output_type": "execute_result"
    }
   ],
   "source": [
    "X = X.flatten()\n",
    "X"
   ]
  },
  {
   "cell_type": "markdown",
   "id": "74045bb7",
   "metadata": {},
   "source": [
    "indicies 기준으로 마스킹"
   ]
  },
  {
   "cell_type": "code",
   "execution_count": 16,
   "id": "5d60dfe4",
   "metadata": {},
   "outputs": [
    {
     "data": {
      "text/plain": [
       "array([51, 14,  0])"
      ]
     },
     "execution_count": 16,
     "metadata": {},
     "output_type": "execute_result"
    }
   ],
   "source": [
    "X[np.array([0, 2, 4])]"
   ]
  },
  {
   "cell_type": "code",
   "execution_count": 17,
   "id": "b0e63eff",
   "metadata": {},
   "outputs": [
    {
     "data": {
      "text/plain": [
       "array([51, 14,  0])"
      ]
     },
     "execution_count": 17,
     "metadata": {},
     "output_type": "execute_result"
    }
   ],
   "source": [
    "X[[0, 2, 4]]"
   ]
  },
  {
   "cell_type": "markdown",
   "id": "b5216ff0",
   "metadata": {},
   "source": [
    "`True` & `False` 마스크 통한 필터링"
   ]
  },
  {
   "cell_type": "code",
   "execution_count": 18,
   "id": "137e876b",
   "metadata": {},
   "outputs": [
    {
     "data": {
      "text/plain": [
       "array([ True,  True, False,  True, False, False])"
      ]
     },
     "execution_count": 18,
     "metadata": {},
     "output_type": "execute_result"
    }
   ],
   "source": [
    "mask_gt15 = X > 15\n",
    "mask_gt15"
   ]
  },
  {
   "cell_type": "code",
   "execution_count": 19,
   "id": "91fc3968",
   "metadata": {},
   "outputs": [
    {
     "data": {
      "text/plain": [
       "array([51, 55, 19])"
      ]
     },
     "execution_count": 19,
     "metadata": {},
     "output_type": "execute_result"
    }
   ],
   "source": [
    "X[mask_gt15]"
   ]
  },
  {
   "cell_type": "markdown",
   "id": "b4fbade3",
   "metadata": {},
   "source": [
    "---\n",
    "### 그래프"
   ]
  },
  {
   "cell_type": "code",
   "execution_count": 20,
   "id": "5f92266f",
   "metadata": {},
   "outputs": [
    {
     "data": {
      "image/png": "[encoded data removed]",
      "text/plain": [
       "<Figure size 640x480 with 1 Axes>"
      ]
     },
     "metadata": {},
     "output_type": "display_data"
    }
   ],
   "source": [
    "# %matplotlib notebook\n",
    "# %matplotlib inline\n",
    "\n",
    "x = np.arange(0, 6, 0.1)  # array range\n",
    "y1 = np.sin(x)\n",
    "y2 = np.cos(x)\n",
    "\n",
    "plt.plot(x, y1, label='sin')\n",
    "plt.plot(x, y2, label='cos', linestyle='--')\n",
    "\n",
    "plt.xlabel('x')\n",
    "plt.ylabel('y')\n",
    "plt.title('sin & cos')\n",
    "plt.legend()\n",
    "\n",
    "plt.show()"
   ]
  },
  {
   "cell_type": "code",
   "execution_count": 21,
   "id": "0b67109e",
   "metadata": {},
   "outputs": [
    {
     "data": {
      "image/png": "[encoded data removed]",
      "text/plain": [
       "<Figure size 640x480 with 1 Axes>"
      ]
     },
     "metadata": {},
     "output_type": "display_data"
    }
   ],
   "source": [
    "img = imread('./images/coffee.png')\n",
    "\n",
    "plt.imshow(img)\n",
    "plt.show()"
   ]
  },
  {
   "cell_type": "code",
   "execution_count": null,
   "id": "1a7821a6",
   "metadata": {},
   "outputs": [],
   "source": []
  }
 ],
 "metadata": {
  "kernelspec": {
   "display_name": "venv",
   "language": "python",
   "name": "python3"
  },
  "language_info": {
   "codemirror_mode": {
    "name": "ipython",
    "version": 3
   },
   "file_extension": ".py",
   "mimetype": "text/x-python",
   "name": "python",
   "nbconvert_exporter": "python",
   "pygments_lexer": "ipython3",
   "version": "3.12.3"
  }
 },
 "nbformat": 4,
 "nbformat_minor": 5
}
