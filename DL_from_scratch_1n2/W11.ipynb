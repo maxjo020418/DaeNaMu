{
 "cells": [
  {
   "cell_type": "code",
   "execution_count": 1,
   "id": "c142afa1",
   "metadata": {},
   "outputs": [],
   "source": [
    "import numpy as np\n",
    "import matplotlib.pyplot as plt"
   ]
  },
  {
   "cell_type": "markdown",
   "id": "9197b28d",
   "metadata": {},
   "source": [
    "| 주차 | 일정                               | 페이지                                  |\n",
    "|-----:|-----------------------------------|----------------------------------------|\n",
    "|    1 | 1장-헬로 파이썬                     | 0p ~ 45p                               |\n",
    "|    2 | 2장-퍼셉트론                        | 46p ~ 62p                              |\n",
    "|    3 | 3장-신경망                          | 63p ~ 105p                             |\n",
    "|    4 | 4장-신경망 학습                     | 106p ~ 146p                            |\n",
    "|    5 | 5장-오차역전파법                    | 147p ~ 187p (+ Appendix A, 292p ~ 299p) |\n",
    "|    6 | 중간고사(전)                        |                                        |\n",
    "|    7 | 중간고사                           |                                        |\n",
    "|    8 | 6장-학습 관련 기술들               | 188p ~ 226p                            |\n",
    "|    9 | 7장-합성곱 신경망(CNN)             | 227p ~ 259p                            |\n",
    "|   10 | 딥러닝                             | 261p ~ 308p                            |\n",
    "|   11 | 1장-신경망 복습                    | 0p ~ 74p (+ Appendix A, 389p ~ 394p)  |\n",
    "|   12 | 2장-자연어와 단어의 분산 표현      | 78p ~ 113p (+ Appendix B, 395p ~ 399p) |\n",
    "|   13 | 기말고사(전)                       |                                        |\n",
    "|   14 | 기말고사                          |                                        |\n",
    "|   15 | 3장-word2vec                       | 114p ~ 147p                            |\n",
    "|   16 | 4장-word2vec 속도 개선             | 148p ~ 189p                            |\n",
    "|   17 | 5장-순환신경망(RNN)                | 190p ~ 235p                            |\n",
    "|   18 | 6장-게이트가 추가된 RNN            | 263p ~ 286p (+ Appendix C, 401p ~ 402p)|\n",
    "|   19 | 7장-RNN을 사용한 문장 생성         | 287p ~ 333p                            |\n",
    "|   20 | 8장-어텐션                         | 334p ~ 387p                            |\n",
    "\n",
    "# 11주차\n",
    "\n",
    "신경망 복습\n",
    "\n",
    "_0~72p_\n",
    "\n",
    "---"
   ]
  },
  {
   "attachments": {
    "Untitled.jpg": {
     "image/jpeg": "[encoded data removed]"
    }
   },
   "cell_type": "markdown",
   "id": "09a72eed",
   "metadata": {},
   "source": [
    "![Untitled.jpg](attachment:Untitled.jpg)\n",
    "## 수학 & 파이썬 복습"
   ]
  },
  {
   "cell_type": "markdown",
   "id": "c2257744",
   "metadata": {},
   "source": [
    "1차원 `numpy.ndarray`"
   ]
  },
  {
   "cell_type": "code",
   "execution_count": null,
   "id": "392f644c",
   "metadata": {},
   "outputs": [
    {
     "data": {
      "text/plain": [
       "(array([0, 1, 2, 3, 4]), numpy.ndarray, (5,), 1)"
      ]
     },
     "execution_count": 6,
     "metadata": {},
     "output_type": "execute_result"
    }
   ],
   "source": [
    "x = np.array([i for i in range(5)])\n",
    "\n",
    "x, x.__class__, x.shape, x.ndim"
   ]
  },
  {
   "cell_type": "markdown",
   "id": "1a0b171b",
   "metadata": {},
   "source": [
    "2차원 `numpy.ndarray`"
   ]
  },
  {
   "cell_type": "code",
   "execution_count": 8,
   "id": "0e66f2d0",
   "metadata": {},
   "outputs": [
    {
     "data": {
      "text/plain": [
       "(array([[0, 1, 2, 3, 4],\n",
       "        [0, 1, 2, 3, 4]]),\n",
       " (2, 5),\n",
       " 2)"
      ]
     },
     "execution_count": 8,
     "metadata": {},
     "output_type": "execute_result"
    }
   ],
   "source": [
    "W = np.array([x, x])\n",
    "W, W.shape, W.ndim"
   ]
  },
  {
   "cell_type": "markdown",
   "id": "39ea1cfa",
   "metadata": {},
   "source": [
    "**행렬 연산**\n",
    "\n",
    "원소별 연산"
   ]
  },
  {
   "cell_type": "code",
   "execution_count": 10,
   "id": "8b0b3650",
   "metadata": {},
   "outputs": [
    {
     "data": {
      "text/plain": [
       "(array([[ 1,  3,  5],\n",
       "        [ 7,  9, 11]]),\n",
       " array([[ 0,  2,  6],\n",
       "        [12, 20, 30]]))"
      ]
     },
     "execution_count": 10,
     "metadata": {},
     "output_type": "execute_result"
    }
   ],
   "source": [
    "W = np.array([[1, 2, 3], [4, 5, 6]])\n",
    "X = np.array([[0, 1, 2], [3, 4, 5]])\n",
    "\n",
    "W + X, W * X"
   ]
  },
  {
   "cell_type": "markdown",
   "id": "5b9f876d",
   "metadata": {},
   "source": [
    "Broadcasting"
   ]
  },
  {
   "cell_type": "code",
   "execution_count": 11,
   "id": "d116728a",
   "metadata": {},
   "outputs": [
    {
     "data": {
      "text/plain": [
       "array([[10, 20, 30],\n",
       "       [40, 50, 60]])"
      ]
     },
     "execution_count": 11,
     "metadata": {},
     "output_type": "execute_result"
    }
   ],
   "source": [
    "W * 10"
   ]
  },
  {
   "cell_type": "markdown",
   "id": "88d4b353",
   "metadata": {},
   "source": [
    "**note:** broadcasting 충족 조건"
   ]
  },
  {
   "cell_type": "code",
   "execution_count": 21,
   "id": "dd0f09b4",
   "metadata": {},
   "outputs": [
    {
     "data": {
      "text/plain": [
       "(True, True, False)"
      ]
     },
     "execution_count": 21,
     "metadata": {},
     "output_type": "execute_result"
    }
   ],
   "source": [
    "def is_broadcastable(arr1: np.ndarray, arr2: np.ndarray) -> bool:\n",
    "    for a, b in zip(arr1.shape[::-1], arr2.shape[::-1]):\n",
    "        if a == 1 or b == 1 or a == b:\n",
    "            pass\n",
    "        else:\n",
    "            return False\n",
    "    return True\n",
    "\n",
    "is_broadcastable(W, np.array(5)), is_broadcastable(W, np.array([[0, 1, 2]])), is_broadcastable(W, np.array([[0, 1]]))"
   ]
  },
  {
   "cell_type": "markdown",
   "id": "569c35d5",
   "metadata": {},
   "source": [
    "행렬곱 - dot product\n",
    "\n",
    "(`dot`, `matmul`은 약간의 방식차이만 있을뿐 결과랑 성능 거의 비슷)"
   ]
  },
  {
   "cell_type": "code",
   "execution_count": 23,
   "id": "0608ae04",
   "metadata": {},
   "outputs": [
    {
     "data": {
      "text/plain": [
       "array([[24, 39, 54],\n",
       "       [30, 49, 68]])"
      ]
     },
     "execution_count": 23,
     "metadata": {},
     "output_type": "execute_result"
    }
   ],
   "source": [
    "np.dot(np.array([[7, 8], [9, 10]]), X)"
   ]
  },
  {
   "cell_type": "code",
   "execution_count": 24,
   "id": "957e5f10",
   "metadata": {},
   "outputs": [
    {
     "data": {
      "text/plain": [
       "array([[24, 39, 54],\n",
       "       [30, 49, 68]])"
      ]
     },
     "execution_count": 24,
     "metadata": {},
     "output_type": "execute_result"
    }
   ],
   "source": [
    "np.matmul(np.array([[7, 8], [9, 10]]), X)"
   ]
  },
  {
   "cell_type": "markdown",
   "id": "75bfa490",
   "metadata": {},
   "source": [
    "## 신경망의 학습\n",
    "\n",
    "**손실함수:**\n",
    "\n",
    "다중 클래스 분류를 위해서는 `Categorical Corss Entropy Error`를 사용한다.\n",
    "(값의 범위에따라 `Sparse Categorical Corss Entropy Error` 일수도)\n",
    "\n"
   ]
  }
 ],
 "metadata": {
  "kernelspec": {
   "display_name": ".venv",
   "language": "python",
   "name": "python3"
  },
  "language_info": {
   "codemirror_mode": {
    "name": "ipython",
    "version": 3
   },
   "file_extension": ".py",
   "mimetype": "text/x-python",
   "name": "python",
   "nbconvert_exporter": "python",
   "pygments_lexer": "ipython3",
   "version": "3.12.3"
  }
 },
 "nbformat": 4,
 "nbformat_minor": 5
}
